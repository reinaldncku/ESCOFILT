{
 "cells": [
  {
   "cell_type": "code",
   "execution_count": 2,
   "metadata": {
    "executionInfo": {
     "elapsed": 14493,
     "status": "ok",
     "timestamp": 1616825376149,
     "user": {
      "displayName": "P78077040李仁傑",
      "photoUrl": "",
      "userId": "17997119609366743768"
     },
     "user_tz": -480
    },
    "id": "WReivo4Z_sVW"
   },
   "outputs": [],
   "source": [
    "import os\n",
    "GPU_ID = 0\n",
    "os.environ['CUDA_VISIBLE_DEVICES'] = str(GPU_ID)\n",
    "\n",
    "import sys\n",
    "sys.path.insert(1, os.path.join(sys.path[0], '..'))\n",
    "\n",
    "import torch\n",
    "import torch.nn as nn\n",
    "import torch.optim as optim\n",
    "import torch.nn.functional as F\n",
    "from tqdm import tqdm, notebook\n",
    "\n",
    "import matplotlib.pyplot as plt\n",
    "import matplotlib.ticker as ticker\n",
    "import numpy as np\n",
    "\n",
    "import random\n",
    "import time\n",
    "import sys\n",
    "import csv\n",
    "import pickle\n",
    "import pandas as pd\n",
    "\n",
    "from tensorboardX import SummaryWriter\n",
    "from datetime import datetime\n",
    "from transformers import *\n",
    "from torchtext.data import Field"
   ]
  },
  {
   "cell_type": "code",
   "execution_count": 3,
   "metadata": {},
   "outputs": [],
   "source": [
    "import params as pm\n",
    "import paths_args as ag\n",
    "from recsys_lib20 import get_nn_embeddings, acquire_dataloader, ESCOFILT, count_parameters, epoch_time\n",
    "from general_codes import train_NCF_only, evaluate_NCF_only"
   ]
  },
  {
   "cell_type": "code",
   "execution_count": 4,
   "metadata": {},
   "outputs": [
    {
     "name": "stdout",
     "output_type": "stream",
     "text": [
      "cuda\n"
     ]
    }
   ],
   "source": [
    "torch.manual_seed(pm.SEED_CONST)\n",
    "torch.cuda.manual_seed(pm.SEED_CONST)\n",
    "np.random.seed(pm.SEED_CONST)\n",
    "random.seed(pm.SEED_CONST)\n",
    "torch.backends.cudnn.deterministic = True\n",
    "device = torch.device(\"cuda\" if torch.cuda.is_available() else \"cpu\")\n",
    "print (device)"
   ]
  },
  {
   "cell_type": "code",
   "execution_count": 5,
   "metadata": {
    "colab": {
     "base_uri": "https://localhost:8080/"
    },
    "executionInfo": {
     "elapsed": 15242,
     "status": "ok",
     "timestamp": 1616825376906,
     "user": {
      "displayName": "P78077040李仁傑",
      "photoUrl": "",
      "userId": "17997119609366743768"
     },
     "user_tz": -480
    },
    "id": "gW8Fr9HZ3sWr",
    "outputId": "5a194146-95c6-4e9b-b532-cb02b45e47a2"
   },
   "outputs": [
    {
     "name": "stdout",
     "output_type": "stream",
     "text": [
      "T/T/V dataset splits will be read from the ff.:\n",
      " ---  ../shared_datasets/auto_dataset/converted_csv/train.csv\n",
      " ---  ../shared_datasets/auto_dataset/converted_csv/valid.csv\n",
      " ---  ../shared_datasets/auto_dataset/converted_csv/test.csv\n"
     ]
    }
   ],
   "source": [
    "\n",
    "input_trn_file = ag.CSV_PATH.format(pm.DOMAIN, \"train\")\n",
    "input_vld_file = ag.CSV_PATH.format(pm.DOMAIN, \"valid\")\n",
    "input_tst_file = ag.CSV_PATH.format(pm.DOMAIN, \"test\")\n",
    "\n",
    "print (\"T/T/V dataset splits will be read from the ff.:\")\n",
    "print (\" --- \", input_trn_file)\n",
    "print (\" --- \", input_vld_file)\n",
    "print (\" --- \", input_tst_file)\n"
   ]
  },
  {
   "cell_type": "code",
   "execution_count": 6,
   "metadata": {
    "colab": {
     "base_uri": "https://localhost:8080/"
    },
    "executionInfo": {
     "elapsed": 18221,
     "status": "ok",
     "timestamp": 1616825379910,
     "user": {
      "displayName": "P78077040李仁傑",
      "photoUrl": "",
      "userId": "17997119609366743768"
     },
     "user_tz": -480
    },
    "id": "DhqRT_Vb_qE5",
    "outputId": "3d5a4728-4372-4ef7-e198-4b8d77611d0a"
   },
   "outputs": [
    {
     "name": "stdout",
     "output_type": "stream",
     "text": [
      "Initial embeddings will be read from: \n",
      " ---  ../shared_datasets/auto_dataset/exsumm_embedding_mod_punc/user/ratio-0.4.pkl\n",
      " ---  ../shared_datasets/auto_dataset/exsumm_embedding_mod_punc/item/ratio-0.4.pkl\n",
      "\n",
      "Quick sanity check: \n",
      "  Number of users:  2928\n",
      "  Number of items:  1835\n",
      "  Type of users:  <class 'dict'>\n",
      "  type of items:  <class 'dict'>\n"
     ]
    }
   ],
   "source": [
    "in_user_pk_path = ag.OUT_PICKLE_PATH.format(pm.DOMAIN, pm.EMB_TYPE, \"user\", pm.USER_RATIO)\n",
    "in_item_pk_path = ag.OUT_PICKLE_PATH.format(pm.DOMAIN, pm.EMB_TYPE, \"item\", pm.ITEM_RATIO)\n",
    "\n",
    "print (\"Initial embeddings will be read from: \")\n",
    "print (\" --- \", in_user_pk_path)\n",
    "print (\" --- \", in_item_pk_path)\n",
    "\n",
    "with open(in_user_pk_path, \"rb\") as handle1:\n",
    "    user_embeddings = pickle.loads(handle1.read())\n",
    "\n",
    "with open(in_item_pk_path, \"rb\") as handle2:\n",
    "    item_embeddings = pickle.loads(handle2.read())\n",
    "    \n",
    "# Check counts:\n",
    "print (\"\\nQuick sanity check: \")\n",
    "print (\"  Number of users: \", len(user_embeddings))\n",
    "print (\"  Number of items: \", len(item_embeddings))\n",
    "print (\"  Type of users: \", type(user_embeddings))\n",
    "print (\"  type of items: \", type(item_embeddings))\n",
    "\n",
    "user_nn_embeddings = get_nn_embeddings(user_embeddings)\n",
    "item_nn_embeddings = get_nn_embeddings(item_embeddings)\n",
    "\n"
   ]
  },
  {
   "cell_type": "code",
   "execution_count": 7,
   "metadata": {},
   "outputs": [
    {
     "name": "stdout",
     "output_type": "stream",
     "text": [
      "\n",
      "Quick sanity check: \n",
      "  Number of train rows (batch):  128\n",
      "  Number of valid rows (batch):  16\n",
      "  Number of test rows (batch):  16\n",
      "\n",
      "  Number of train rows (DF):  16378\n",
      "  Number of valid rows (DF):  2044\n",
      "  Number of test rows (DF):  2045\n"
     ]
    }
   ],
   "source": [
    "train_df = pd.read_csv(input_trn_file)\n",
    "valid_df = pd.read_csv(input_vld_file)\n",
    "test_df = pd.read_csv(input_tst_file)\n",
    "\n",
    "train_iterator = acquire_dataloader(train_df, pm.B_SIZE, to_random=True)\n",
    "valid_iterator = acquire_dataloader(valid_df, pm.B_SIZE, to_random=False)\n",
    "test_iterator = acquire_dataloader(test_df, pm.B_SIZE, to_random=False)\n",
    "\n",
    "print (\"\\nQuick sanity check: \")\n",
    "print (\"  Number of train rows (batch): \", len(train_iterator))\n",
    "print (\"  Number of valid rows (batch): \", len(valid_iterator))\n",
    "print (\"  Number of test rows (batch): \", len(test_iterator))\n",
    "print ()\n",
    "print (\"  Number of train rows (DF): \", len(train_df))\n",
    "print (\"  Number of valid rows (DF): \", len(valid_df))\n",
    "print (\"  Number of test rows (DF): \", len(test_df))\n",
    "\n"
   ]
  },
  {
   "cell_type": "markdown",
   "metadata": {},
   "source": [
    "\n",
    "### __NOTE:__ Initialization of various neural components."
   ]
  },
  {
   "cell_type": "code",
   "execution_count": 9,
   "metadata": {},
   "outputs": [
    {
     "name": "stdout",
     "output_type": "stream",
     "text": [
      "trad_user_embeddings.weight\n",
      "trad_item_embeddings.weight\n",
      "compress_u.weight\n",
      "compress_u.bias\n",
      "compress_i.weight\n",
      "compress_i.bias\n",
      "mlp.mlp0.weight\n",
      "mlp.mlp0.bias\n",
      "mlp.mlp1.weight\n",
      "mlp.mlp1.bias\n",
      "mlp.mlp2.weight\n",
      "mlp.mlp2.bias\n",
      "mlp.mlp3.weight\n",
      "mlp.mlp3.bias\n",
      "mlp.last_dense.weight\n",
      "mlp.last_dense.bias\n",
      "The AceCF model has 915,841 trainable parameters.\n"
     ]
    }
   ],
   "source": [
    "'''\n",
    "# Initialize the CF model here.\n",
    "'''\n",
    "\n",
    "ace_model = ESCOFILT(user_nn_embeddings, item_nn_embeddings, pm.MLP_SIZE, pm.EMB_SIZE,\n",
    "            len(user_embeddings), len(item_embeddings), pm.REDUCE_DIM).to(device)\n",
    "\n",
    "loss_fxn = nn.MSELoss()\n",
    "\n",
    "print(f'The AceCF model has {count_parameters(ace_model):,} trainable parameters.')\n",
    "optimizer = optim.Adam(ace_model.parameters(), lr=pm.CF_LRATE)\n"
   ]
  },
  {
   "cell_type": "markdown",
   "metadata": {},
   "source": [
    "\n",
    "### __NOTE:__ Ohhhh, the training proper commences below!"
   ]
  },
  {
   "cell_type": "code",
   "execution_count": 10,
   "metadata": {
    "colab": {
     "base_uri": "https://localhost:8080/"
    },
    "executionInfo": {
     "elapsed": 3619805,
     "status": "ok",
     "timestamp": 1616828981529,
     "user": {
      "displayName": "P78077040李仁傑",
      "photoUrl": "",
      "userId": "17997119609366743768"
     },
     "user_tz": -480
    },
    "id": "A1g7pW7tASMg",
    "outputId": "12d418ed-3236-49c9-f48d-5dac0f037f61",
    "scrolled": true,
    "tags": []
   },
   "outputs": [
    {
     "name": "stderr",
     "output_type": "stream",
     "text": [
      "Training Iteration : 100%|██████████| 128/128 [00:00<00:00, 142.92it/s]\n",
      "Validation Iteration : 100%|██████████| 16/16 [00:00<00:00, 553.83it/s]\n",
      "Training Iteration :   8%|▊         | 10/128 [00:00<00:01, 99.90it/s]"
     ]
    },
    {
     "name": "stdout",
     "output_type": "stream",
     "text": [
      "\n",
      "\n",
      "Epoch: 01 | Time: 0m 0s\n",
      "\t Train RMSE: 1.2964\n",
      "\n",
      "\t Val. RMSE: 1.0007\n",
      "\n",
      "\n"
     ]
    },
    {
     "name": "stderr",
     "output_type": "stream",
     "text": [
      "Training Iteration : 100%|██████████| 128/128 [00:00<00:00, 132.07it/s]\n",
      "Validation Iteration : 100%|██████████| 16/16 [00:00<00:00, 164.21it/s]\n",
      "Training Iteration :   9%|▊         | 11/128 [00:00<00:01, 105.95it/s]"
     ]
    },
    {
     "name": "stdout",
     "output_type": "stream",
     "text": [
      "\n",
      "\n",
      "Epoch: 02 | Time: 0m 1s\n",
      "\t Train RMSE: 0.9958\n",
      "\n",
      "\t Val. RMSE: 0.9421\n",
      "\n",
      "\n"
     ]
    },
    {
     "name": "stderr",
     "output_type": "stream",
     "text": [
      "Training Iteration : 100%|██████████| 128/128 [00:00<00:00, 134.25it/s]\n",
      "Validation Iteration : 100%|██████████| 16/16 [00:00<00:00, 107.12it/s]\n",
      "Training Iteration :  18%|█▊        | 23/128 [00:00<00:00, 229.57it/s]"
     ]
    },
    {
     "name": "stdout",
     "output_type": "stream",
     "text": [
      "\n",
      "\n",
      "Epoch: 03 | Time: 0m 1s\n",
      "\t Train RMSE: 0.9636\n",
      "\n",
      "\t Val. RMSE: 0.9689\n",
      "\n",
      "\n"
     ]
    },
    {
     "name": "stderr",
     "output_type": "stream",
     "text": [
      "Training Iteration : 100%|██████████| 128/128 [00:00<00:00, 143.63it/s]\n",
      "Validation Iteration : 100%|██████████| 16/16 [00:00<00:00, 557.52it/s]\n",
      "Training Iteration :   9%|▊         | 11/128 [00:00<00:01, 100.66it/s]"
     ]
    },
    {
     "name": "stdout",
     "output_type": "stream",
     "text": [
      "\n",
      "\n",
      "Epoch: 04 | Time: 0m 0s\n",
      "\t Train RMSE: 0.9699\n",
      "\n",
      "\t Val. RMSE: 0.9259\n",
      "\n",
      "\n"
     ]
    },
    {
     "name": "stderr",
     "output_type": "stream",
     "text": [
      "Training Iteration : 100%|██████████| 128/128 [00:00<00:00, 133.46it/s]\n",
      "Validation Iteration : 100%|██████████| 16/16 [00:00<00:00, 148.18it/s]\n",
      "Training Iteration :  18%|█▊        | 23/128 [00:00<00:00, 229.16it/s]"
     ]
    },
    {
     "name": "stdout",
     "output_type": "stream",
     "text": [
      "\n",
      "\n",
      "Epoch: 05 | Time: 0m 1s\n",
      "\t Train RMSE: 0.9337\n",
      "\n",
      "\t Val. RMSE: 0.9576\n",
      "\n",
      "\n"
     ]
    },
    {
     "name": "stderr",
     "output_type": "stream",
     "text": [
      "Training Iteration : 100%|██████████| 128/128 [00:01<00:00, 111.96it/s]\n",
      "Validation Iteration : 100%|██████████| 16/16 [00:00<00:00, 110.27it/s]\n",
      "Training Iteration :   8%|▊         | 10/128 [00:00<00:01, 99.63it/s]"
     ]
    },
    {
     "name": "stdout",
     "output_type": "stream",
     "text": [
      "\n",
      "\n",
      "Epoch: 06 | Time: 0m 1s\n",
      "\t Train RMSE: 0.9110\n",
      "\n",
      "\t Val. RMSE: 0.9806\n",
      "\n",
      "\n"
     ]
    },
    {
     "name": "stderr",
     "output_type": "stream",
     "text": [
      "Training Iteration : 100%|██████████| 128/128 [00:01<00:00, 100.75it/s]\n",
      "Validation Iteration : 100%|██████████| 16/16 [00:00<00:00, 109.26it/s]\n",
      "Training Iteration :   8%|▊         | 10/128 [00:00<00:01, 99.08it/s]"
     ]
    },
    {
     "name": "stdout",
     "output_type": "stream",
     "text": [
      "\n",
      "\n",
      "Epoch: 07 | Time: 0m 1s\n",
      "\t Train RMSE: 0.8995\n",
      "\n",
      "\t Val. RMSE: 0.9910\n",
      "\n",
      "\n"
     ]
    },
    {
     "name": "stderr",
     "output_type": "stream",
     "text": [
      "Training Iteration : 100%|██████████| 128/128 [00:01<00:00, 100.70it/s]\n",
      "Validation Iteration : 100%|██████████| 16/16 [00:00<00:00, 112.04it/s]\n",
      "Training Iteration :   8%|▊         | 10/128 [00:00<00:01, 99.01it/s]"
     ]
    },
    {
     "name": "stdout",
     "output_type": "stream",
     "text": [
      "\n",
      "\n",
      "Epoch: 08 | Time: 0m 1s\n",
      "\t Train RMSE: 0.9033\n",
      "\n",
      "\t Val. RMSE: 1.0278\n",
      "\n",
      "\n"
     ]
    },
    {
     "name": "stderr",
     "output_type": "stream",
     "text": [
      "Training Iteration : 100%|██████████| 128/128 [00:01<00:00, 100.79it/s]\n",
      "Validation Iteration : 100%|██████████| 16/16 [00:00<00:00, 109.67it/s]\n",
      "Training Iteration :   8%|▊         | 10/128 [00:00<00:01, 99.40it/s]"
     ]
    },
    {
     "name": "stdout",
     "output_type": "stream",
     "text": [
      "\n",
      "\n",
      "Epoch: 09 | Time: 0m 1s\n",
      "\t Train RMSE: 0.8873\n",
      "\n",
      "\t Val. RMSE: 1.0252\n",
      "\n",
      "\n"
     ]
    },
    {
     "name": "stderr",
     "output_type": "stream",
     "text": [
      "Training Iteration : 100%|██████████| 128/128 [00:01<00:00, 100.88it/s]\n",
      "Validation Iteration : 100%|██████████| 16/16 [00:00<00:00, 109.39it/s]\n",
      "Training Iteration :   8%|▊         | 10/128 [00:00<00:01, 99.42it/s]"
     ]
    },
    {
     "name": "stdout",
     "output_type": "stream",
     "text": [
      "\n",
      "\n",
      "Epoch: 10 | Time: 0m 1s\n",
      "\t Train RMSE: 0.8679\n",
      "\n",
      "\t Val. RMSE: 0.9852\n",
      "\n",
      "\n"
     ]
    },
    {
     "name": "stderr",
     "output_type": "stream",
     "text": [
      "Training Iteration : 100%|██████████| 128/128 [00:01<00:00, 100.60it/s]\n",
      "Validation Iteration : 100%|██████████| 16/16 [00:00<00:00, 112.08it/s]\n",
      "Training Iteration :   8%|▊         | 10/128 [00:00<00:01, 98.66it/s]"
     ]
    },
    {
     "name": "stdout",
     "output_type": "stream",
     "text": [
      "\n",
      "\n",
      "Epoch: 11 | Time: 0m 1s\n",
      "\t Train RMSE: 0.8511\n",
      "\n",
      "\t Val. RMSE: 0.9290\n",
      "\n",
      "\n"
     ]
    },
    {
     "name": "stderr",
     "output_type": "stream",
     "text": [
      "Training Iteration : 100%|██████████| 128/128 [00:01<00:00, 100.76it/s]\n",
      "Validation Iteration : 100%|██████████| 16/16 [00:00<00:00, 109.98it/s]\n",
      "Training Iteration :   8%|▊         | 10/128 [00:00<00:01, 98.93it/s]"
     ]
    },
    {
     "name": "stdout",
     "output_type": "stream",
     "text": [
      "\n",
      "\n",
      "Epoch: 12 | Time: 0m 1s\n",
      "\t Train RMSE: 0.8692\n",
      "\n",
      "\t Val. RMSE: 1.0042\n",
      "\n",
      "\n"
     ]
    },
    {
     "name": "stderr",
     "output_type": "stream",
     "text": [
      "Training Iteration : 100%|██████████| 128/128 [00:01<00:00, 100.79it/s]\n",
      "Validation Iteration : 100%|██████████| 16/16 [00:00<00:00, 109.21it/s]\n",
      "Training Iteration :   9%|▊         | 11/128 [00:00<00:01, 100.87it/s]"
     ]
    },
    {
     "name": "stdout",
     "output_type": "stream",
     "text": [
      "\n",
      "\n",
      "Epoch: 13 | Time: 0m 1s\n",
      "\t Train RMSE: 0.8455\n",
      "\n",
      "\t Val. RMSE: 0.9452\n",
      "\n",
      "\n"
     ]
    },
    {
     "name": "stderr",
     "output_type": "stream",
     "text": [
      "Training Iteration : 100%|██████████| 128/128 [00:01<00:00, 100.90it/s]\n",
      "Validation Iteration : 100%|██████████| 16/16 [00:00<00:00, 109.38it/s]\n",
      "Training Iteration :   8%|▊         | 10/128 [00:00<00:01, 98.81it/s]"
     ]
    },
    {
     "name": "stdout",
     "output_type": "stream",
     "text": [
      "\n",
      "\n",
      "Epoch: 14 | Time: 0m 1s\n",
      "\t Train RMSE: 0.8293\n",
      "\n",
      "\t Val. RMSE: 0.9362\n",
      "\n",
      "\n"
     ]
    },
    {
     "name": "stderr",
     "output_type": "stream",
     "text": [
      "Training Iteration : 100%|██████████| 128/128 [00:01<00:00, 100.81it/s]\n",
      "Validation Iteration : 100%|██████████| 16/16 [00:00<00:00, 108.46it/s]\n",
      "Training Iteration :   9%|▊         | 11/128 [00:00<00:01, 104.82it/s]"
     ]
    },
    {
     "name": "stdout",
     "output_type": "stream",
     "text": [
      "\n",
      "\n",
      "Epoch: 15 | Time: 0m 1s\n",
      "\t Train RMSE: 0.8159\n",
      "\n",
      "\t Val. RMSE: 0.9255\n",
      "\n",
      "\n"
     ]
    },
    {
     "name": "stderr",
     "output_type": "stream",
     "text": [
      "Training Iteration : 100%|██████████| 128/128 [00:01<00:00, 101.19it/s]\n",
      "Validation Iteration : 100%|██████████| 16/16 [00:00<00:00, 111.47it/s]\n",
      "Training Iteration :   8%|▊         | 10/128 [00:00<00:01, 98.38it/s]"
     ]
    },
    {
     "name": "stdout",
     "output_type": "stream",
     "text": [
      "\n",
      "\n",
      "Epoch: 16 | Time: 0m 1s\n",
      "\t Train RMSE: 0.8123\n",
      "\n",
      "\t Val. RMSE: 0.9868\n",
      "\n",
      "\n"
     ]
    },
    {
     "name": "stderr",
     "output_type": "stream",
     "text": [
      "Training Iteration : 100%|██████████| 128/128 [00:00<00:00, 132.95it/s]\n",
      "Validation Iteration : 100%|██████████| 16/16 [00:00<00:00, 131.86it/s]\n",
      "Training Iteration :  20%|█▉        | 25/128 [00:00<00:00, 234.21it/s]"
     ]
    },
    {
     "name": "stdout",
     "output_type": "stream",
     "text": [
      "\n",
      "\n",
      "Epoch: 17 | Time: 0m 1s\n",
      "\t Train RMSE: 0.8219\n",
      "\n",
      "\t Val. RMSE: 0.9296\n",
      "\n",
      "\n"
     ]
    },
    {
     "name": "stderr",
     "output_type": "stream",
     "text": [
      "Training Iteration : 100%|██████████| 128/128 [00:00<00:00, 144.68it/s]\n",
      "Validation Iteration : 100%|██████████| 16/16 [00:00<00:00, 563.76it/s]\n",
      "Training Iteration :   8%|▊         | 10/128 [00:00<00:01, 99.30it/s]"
     ]
    },
    {
     "name": "stdout",
     "output_type": "stream",
     "text": [
      "\n",
      "\n",
      "Epoch: 18 | Time: 0m 0s\n",
      "\t Train RMSE: 0.8097\n",
      "\n",
      "\t Val. RMSE: 0.9362\n",
      "\n",
      "\n"
     ]
    },
    {
     "name": "stderr",
     "output_type": "stream",
     "text": [
      "Training Iteration : 100%|██████████| 128/128 [00:00<00:00, 131.97it/s]\n",
      "Validation Iteration : 100%|██████████| 16/16 [00:00<00:00, 109.49it/s]\n",
      "Training Iteration :  19%|█▉        | 24/128 [00:00<00:00, 238.11it/s]"
     ]
    },
    {
     "name": "stdout",
     "output_type": "stream",
     "text": [
      "\n",
      "\n",
      "Epoch: 19 | Time: 0m 1s\n",
      "\t Train RMSE: 0.7935\n",
      "\n",
      "\t Val. RMSE: 0.9762\n",
      "\n",
      "\n"
     ]
    },
    {
     "name": "stderr",
     "output_type": "stream",
     "text": [
      "Training Iteration : 100%|██████████| 128/128 [00:00<00:00, 142.27it/s]\n",
      "Validation Iteration : 100%|██████████| 16/16 [00:00<00:00, 558.48it/s]\n",
      "Training Iteration :   8%|▊         | 10/128 [00:00<00:01, 99.13it/s]"
     ]
    },
    {
     "name": "stdout",
     "output_type": "stream",
     "text": [
      "\n",
      "\n",
      "Epoch: 20 | Time: 0m 0s\n",
      "\t Train RMSE: 0.7909\n",
      "\n",
      "\t Val. RMSE: 0.9925\n",
      "\n",
      "\n"
     ]
    },
    {
     "name": "stderr",
     "output_type": "stream",
     "text": [
      "Training Iteration : 100%|██████████| 128/128 [00:00<00:00, 128.67it/s]\n",
      "Validation Iteration : 100%|██████████| 16/16 [00:00<00:00, 116.35it/s]\n",
      "Training Iteration :  19%|█▉        | 24/128 [00:00<00:00, 234.11it/s]"
     ]
    },
    {
     "name": "stdout",
     "output_type": "stream",
     "text": [
      "\n",
      "\n",
      "Epoch: 21 | Time: 0m 1s\n",
      "\t Train RMSE: 0.8037\n",
      "\n",
      "\t Val. RMSE: 0.9313\n",
      "\n",
      "\n"
     ]
    },
    {
     "name": "stderr",
     "output_type": "stream",
     "text": [
      "Training Iteration : 100%|██████████| 128/128 [00:00<00:00, 144.07it/s]\n",
      "Validation Iteration : 100%|██████████| 16/16 [00:00<00:00, 562.95it/s]\n",
      "Training Iteration :   9%|▊         | 11/128 [00:00<00:01, 100.82it/s]"
     ]
    },
    {
     "name": "stdout",
     "output_type": "stream",
     "text": [
      "\n",
      "\n",
      "Epoch: 22 | Time: 0m 0s\n",
      "\t Train RMSE: 0.7776\n",
      "\n",
      "\t Val. RMSE: 0.9794\n",
      "\n",
      "\n"
     ]
    },
    {
     "name": "stderr",
     "output_type": "stream",
     "text": [
      "Training Iteration : 100%|██████████| 128/128 [00:00<00:00, 130.71it/s]\n",
      "Validation Iteration : 100%|██████████| 16/16 [00:00<00:00, 112.90it/s]\n",
      "Training Iteration :  17%|█▋        | 22/128 [00:00<00:00, 218.06it/s]"
     ]
    },
    {
     "name": "stdout",
     "output_type": "stream",
     "text": [
      "\n",
      "\n",
      "Epoch: 23 | Time: 0m 1s\n",
      "\t Train RMSE: 0.7888\n",
      "\n",
      "\t Val. RMSE: 0.9505\n",
      "\n",
      "\n"
     ]
    },
    {
     "name": "stderr",
     "output_type": "stream",
     "text": [
      "Training Iteration : 100%|██████████| 128/128 [00:00<00:00, 139.99it/s]\n",
      "Validation Iteration : 100%|██████████| 16/16 [00:00<00:00, 180.23it/s]\n",
      "Training Iteration :   7%|▋         | 9/128 [00:00<00:01, 83.49it/s]"
     ]
    },
    {
     "name": "stdout",
     "output_type": "stream",
     "text": [
      "\n",
      "\n",
      "Epoch: 24 | Time: 0m 1s\n",
      "\t Train RMSE: 0.7656\n",
      "\n",
      "\t Val. RMSE: 0.9521\n",
      "\n",
      "\n"
     ]
    },
    {
     "name": "stderr",
     "output_type": "stream",
     "text": [
      "Training Iteration : 100%|██████████| 128/128 [00:00<00:00, 130.62it/s]\n",
      "Validation Iteration : 100%|██████████| 16/16 [00:00<00:00, 205.02it/s]\n",
      "Training Iteration :  18%|█▊        | 23/128 [00:00<00:00, 212.19it/s]"
     ]
    },
    {
     "name": "stdout",
     "output_type": "stream",
     "text": [
      "\n",
      "\n",
      "Epoch: 25 | Time: 0m 1s\n",
      "\t Train RMSE: 0.7649\n",
      "\n",
      "\t Val. RMSE: 0.9673\n",
      "\n",
      "\n"
     ]
    },
    {
     "name": "stderr",
     "output_type": "stream",
     "text": [
      "Training Iteration : 100%|██████████| 128/128 [00:00<00:00, 145.31it/s]\n",
      "Validation Iteration : 100%|██████████| 16/16 [00:00<00:00, 195.51it/s]\n",
      "Training Iteration :   8%|▊         | 10/128 [00:00<00:01, 98.86it/s]"
     ]
    },
    {
     "name": "stdout",
     "output_type": "stream",
     "text": [
      "\n",
      "\n",
      "Epoch: 26 | Time: 0m 0s\n",
      "\t Train RMSE: 0.7647\n",
      "\n",
      "\t Val. RMSE: 0.9432\n",
      "\n",
      "\n"
     ]
    },
    {
     "name": "stderr",
     "output_type": "stream",
     "text": [
      "Training Iteration : 100%|██████████| 128/128 [00:00<00:00, 131.22it/s]\n",
      "Validation Iteration : 100%|██████████| 16/16 [00:00<00:00, 188.93it/s]\n",
      "Training Iteration :  18%|█▊        | 23/128 [00:00<00:00, 215.09it/s]"
     ]
    },
    {
     "name": "stdout",
     "output_type": "stream",
     "text": [
      "\n",
      "\n",
      "Epoch: 27 | Time: 0m 1s\n",
      "\t Train RMSE: 0.7629\n",
      "\n",
      "\t Val. RMSE: 0.9447\n",
      "\n",
      "\n"
     ]
    },
    {
     "name": "stderr",
     "output_type": "stream",
     "text": [
      "Training Iteration : 100%|██████████| 128/128 [00:00<00:00, 144.57it/s]\n",
      "Validation Iteration : 100%|██████████| 16/16 [00:00<00:00, 195.78it/s]\n",
      "Training Iteration :   8%|▊         | 10/128 [00:00<00:01, 98.03it/s]"
     ]
    },
    {
     "name": "stdout",
     "output_type": "stream",
     "text": [
      "\n",
      "\n",
      "Epoch: 28 | Time: 0m 0s\n",
      "\t Train RMSE: 0.7429\n",
      "\n",
      "\t Val. RMSE: 0.9879\n",
      "\n",
      "\n"
     ]
    },
    {
     "name": "stderr",
     "output_type": "stream",
     "text": [
      "Training Iteration : 100%|██████████| 128/128 [00:00<00:00, 133.03it/s]\n",
      "Validation Iteration : 100%|██████████| 16/16 [00:00<00:00, 169.99it/s]\n",
      "Training Iteration :   7%|▋         | 9/128 [00:00<00:01, 89.01it/s]"
     ]
    },
    {
     "name": "stdout",
     "output_type": "stream",
     "text": [
      "\n",
      "\n",
      "Epoch: 29 | Time: 0m 1s\n",
      "\t Train RMSE: 0.7635\n",
      "\n",
      "\t Val. RMSE: 0.9209\n",
      "\n",
      "\n"
     ]
    },
    {
     "name": "stderr",
     "output_type": "stream",
     "text": [
      "Training Iteration : 100%|██████████| 128/128 [00:01<00:00, 125.10it/s]\n",
      "Validation Iteration : 100%|██████████| 16/16 [00:00<00:00, 161.53it/s]"
     ]
    },
    {
     "name": "stdout",
     "output_type": "stream",
     "text": [
      "\n",
      "\n",
      "Epoch: 30 | Time: 0m 1s\n",
      "\t Train RMSE: 0.7591\n",
      "\n",
      "\t Val. RMSE: 0.9526\n",
      "\n",
      "\n"
     ]
    },
    {
     "name": "stderr",
     "output_type": "stream",
     "text": [
      "\n"
     ]
    }
   ],
   "source": [
    "best_epoch = 0\n",
    "best_valid_loss = float('inf')\n",
    "\n",
    "for epoch in range(pm.N_EPOCHS):\n",
    "    \n",
    "    start_time = time.time()\n",
    "    \n",
    "    train_rmse_loss = train_NCF_only(ace_model, train_iterator, optimizer, loss_fxn, pm.B_SIZE, device)\n",
    "    valid_rmse_loss = evaluate_NCF_only(ace_model, valid_iterator, pm.B_SIZE, device)\n",
    "    \n",
    "    train_loss = train_rmse_loss\n",
    "    valid_loss = valid_rmse_loss\n",
    "    end_time = time.time()\n",
    "    \n",
    "    epoch_mins, epoch_secs = epoch_time(start_time, end_time)\n",
    "    \n",
    "    if valid_loss < best_valid_loss:\n",
    "        best_valid_loss = valid_loss\n",
    "        best_epoch = epoch\n",
    "        torch.save(ace_model.state_dict(), ag.TMP_CF_PATH)\n",
    "    \n",
    "    print(\"\\n\")\n",
    "    print(f'Epoch: {epoch+1:02} | Time: {epoch_mins}m {epoch_secs}s')\n",
    "    \n",
    "    print(f'\\t Train RMSE: {train_rmse_loss:.4f}')\n",
    "    print (\"\")\n",
    "    print(f'\\t Val. RMSE: {valid_rmse_loss:.4f}')\n",
    "    print(\"\\n\")\n",
    "    \n",
    "    if pm.RECORD_TB:\n",
    "        tra_writer.add_scalar('stats/RMSE', train_rmse_loss, epoch)   \n",
    "        tra_writer.flush()\n",
    "        print (\"\")\n",
    "        val_writer.add_scalar('stats/RMSE', valid_rmse_loss, epoch) \n",
    "        val_writer.flush()\n"
   ]
  },
  {
   "cell_type": "code",
   "execution_count": 11,
   "metadata": {},
   "outputs": [
    {
     "name": "stdout",
     "output_type": "stream",
     "text": [
      "Validation's best epoch # 28 with RMSE of  0.9209\n"
     ]
    }
   ],
   "source": [
    "print (f\"Validation's best epoch # {best_epoch} with RMSE of {best_valid_loss: .4f}\")"
   ]
  },
  {
   "cell_type": "code",
   "execution_count": 12,
   "metadata": {},
   "outputs": [
    {
     "name": "stderr",
     "output_type": "stream",
     "text": [
      "Test Iteration : 100%|██████████| 16/16 [00:00<00:00, 108.02it/s]"
     ]
    },
    {
     "name": "stdout",
     "output_type": "stream",
     "text": [
      "\n",
      "\n",
      "Finally, Test RMSE is  0.9041\n"
     ]
    },
    {
     "name": "stderr",
     "output_type": "stream",
     "text": [
      "\n"
     ]
    }
   ],
   "source": [
    "model_state_dict = torch.load(ag.TMP_CF_PATH)\n",
    "ace_model.load_state_dict(model_state_dict)\n",
    "\n",
    "test_rmse_loss = evaluate_NCF_only(ace_model, test_iterator, pm.B_SIZE, device, mode=\"Test\")\n",
    "\n",
    "print (f\"\\n\\nFinally, Test RMSE is {test_rmse_loss: .4f}\")"
   ]
  },
  {
   "cell_type": "code",
   "execution_count": 13,
   "metadata": {},
   "outputs": [
    {
     "name": "stdout",
     "output_type": "stream",
     "text": [
      "[INFO to remember]\n",
      " > Dataset/domain:  auto\n",
      " > Item ratio:  0.4\n",
      " > User ratio:  0.4\n",
      " > LR:  0.004\n",
      " > Batch size:  128\n",
      " > Reduce DIM:  128\n"
     ]
    }
   ],
   "source": [
    "print (\"[INFO to remember]\")\n",
    "print (\" > Dataset/domain: \", pm.DOMAIN)\n",
    "print (\" > Item ratio: \", pm.ITEM_RATIO)\n",
    "print (\" > User ratio: \", pm.USER_RATIO)\n",
    "print (\" > LR: \", pm.CF_LRATE)\n",
    "print (\" > Batch size: \", pm.B_SIZE)\n",
    "print (\" > Reduce DIM: \", pm.REDUCE_DIM)"
   ]
  },
  {
   "cell_type": "code",
   "execution_count": null,
   "metadata": {},
   "outputs": [],
   "source": []
  }
 ],
 "metadata": {
  "accelerator": "GPU",
  "colab": {
   "collapsed_sections": [],
   "machine_shape": "hm",
   "name": "JOINT att2seq + recsys.ipynb",
   "provenance": [
    {
     "file_id": "1D6krVG0PPJR2Je9g5eN_2h6JP73_NUXz",
     "timestamp": 1616378095608
    },
    {
     "file_id": "1d_7axqPO6iSbI6joKb5EAFKV2rPmXt6X",
     "timestamp": 1616054665801
    }
   ],
   "toc_visible": true
  },
  "interpreter": {
   "hash": "ca6b16b9dfc0288a019101a75a813b8e301ebf08f9291523849b1e0e19fc3d86"
  },
  "kernelspec": {
   "display_name": "Python 3.8.3 64-bit ('base': conda)",
   "name": "python3"
  },
  "language_info": {
   "codemirror_mode": {
    "name": "ipython",
    "version": 3
   },
   "file_extension": ".py",
   "mimetype": "text/x-python",
   "name": "python",
   "nbconvert_exporter": "python",
   "pygments_lexer": "ipython3",
   "version": "3.8.3"
  }
 },
 "nbformat": 4,
 "nbformat_minor": 4
}