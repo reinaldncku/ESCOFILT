{
 "cells": [
  {
   "cell_type": "markdown",
   "metadata": {},
   "source": [
    "### We form the pre-trained extractive summary-embeddings from the training dataset."
   ]
  },
  {
   "cell_type": "code",
   "execution_count": 1,
   "metadata": {},
   "outputs": [],
   "source": [
    "import os\n",
    "GPU_ID = 0\n",
    "os.environ['CUDA_VISIBLE_DEVICES'] = str(GPU_ID)\n",
    "\n",
    "import random as rd\n",
    "import sys\n",
    "import pandas as pd \n",
    "import numpy as np\n",
    "import torch\n",
    "import pickle"
   ]
  },
  {
   "cell_type": "code",
   "execution_count": 2,
   "metadata": {},
   "outputs": [],
   "source": [
    "import params as pm \n",
    "import paths_args as ag\n",
    "from recsys_lib20 import get_xs_bert_embeddings"
   ]
  },
  {
   "cell_type": "code",
   "execution_count": 3,
   "metadata": {},
   "outputs": [],
   "source": [
    "# Random seed initialization\n",
    "torch.manual_seed(pm.SEED_CONST)\n",
    "torch.cuda.manual_seed(pm.SEED_CONST)\n",
    "np.random.seed(pm.SEED_CONST)\n",
    "rd.seed(pm.SEED_CONST)\n",
    "torch.backends.cudnn.deterministic = True\n",
    "device = torch.device(\"cuda\" if torch.cuda.is_available() else \"cpu\")"
   ]
  },
  {
   "cell_type": "code",
   "execution_count": 4,
   "metadata": {},
   "outputs": [
    {
     "name": "stdout",
     "output_type": "stream",
     "text": [
      "Training dataset will be read from  ../shared_datasets/patio_dataset/converted_csv/train.csv \n",
      "Got it? Never forget!\n",
      "\n"
     ]
    }
   ],
   "source": [
    "split_csv_path = ag.CSV_PATH.format(pm.PREP_DOMAIN, \"train\")\n",
    "print (\"Training dataset will be read from \", split_csv_path, \"\\nGot it? Never forget!\\n\")\n",
    "\n",
    "current_df = pd.read_csv(split_csv_path)"
   ]
  },
  {
   "cell_type": "code",
   "execution_count": 5,
   "metadata": {
    "tags": []
   },
   "outputs": [
    {
     "name": "stdout",
     "output_type": "stream",
     "text": [
      "Some quick sanity checks: \n"
     ]
    },
    {
     "data": {
      "text/html": [
       "<div>\n",
       "<style scoped>\n",
       "    .dataframe tbody tr th:only-of-type {\n",
       "        vertical-align: middle;\n",
       "    }\n",
       "\n",
       "    .dataframe tbody tr th {\n",
       "        vertical-align: top;\n",
       "    }\n",
       "\n",
       "    .dataframe thead th {\n",
       "        text-align: right;\n",
       "    }\n",
       "</style>\n",
       "<table border=\"1\" class=\"dataframe\">\n",
       "  <thead>\n",
       "    <tr style=\"text-align: right;\">\n",
       "      <th></th>\n",
       "      <th>user_id</th>\n",
       "      <th>item_id</th>\n",
       "      <th>ratings</th>\n",
       "      <th>reviews</th>\n",
       "    </tr>\n",
       "  </thead>\n",
       "  <tbody>\n",
       "    <tr>\n",
       "      <th>0</th>\n",
       "      <td>652</td>\n",
       "      <td>229</td>\n",
       "      <td>4</td>\n",
       "      <td>This is a great Animal Repellent that uses Pep...</td>\n",
       "    </tr>\n",
       "    <tr>\n",
       "      <th>1</th>\n",
       "      <td>750</td>\n",
       "      <td>569</td>\n",
       "      <td>5</td>\n",
       "      <td>These are Christmas gifts for my sons I bought...</td>\n",
       "    </tr>\n",
       "    <tr>\n",
       "      <th>2</th>\n",
       "      <td>735</td>\n",
       "      <td>260</td>\n",
       "      <td>5</td>\n",
       "      <td>I've used mostly peanut butter in mouse traps,...</td>\n",
       "    </tr>\n",
       "    <tr>\n",
       "      <th>3</th>\n",
       "      <td>596</td>\n",
       "      <td>880</td>\n",
       "      <td>4</td>\n",
       "      <td>This hose is pretty neat! It's super lightweig...</td>\n",
       "    </tr>\n",
       "    <tr>\n",
       "      <th>4</th>\n",
       "      <td>1049</td>\n",
       "      <td>172</td>\n",
       "      <td>3</td>\n",
       "      <td>One of these days I'll find the perfect feeder...</td>\n",
       "    </tr>\n",
       "    <tr>\n",
       "      <th>...</th>\n",
       "      <td>...</td>\n",
       "      <td>...</td>\n",
       "      <td>...</td>\n",
       "      <td>...</td>\n",
       "    </tr>\n",
       "    <tr>\n",
       "      <th>10600</th>\n",
       "      <td>423</td>\n",
       "      <td>870</td>\n",
       "      <td>4</td>\n",
       "      <td>This does as advertised, I almost always use m...</td>\n",
       "    </tr>\n",
       "    <tr>\n",
       "      <th>10601</th>\n",
       "      <td>484</td>\n",
       "      <td>590</td>\n",
       "      <td>4</td>\n",
       "      <td>Only bad thing is the grass catcher, dont use ...</td>\n",
       "    </tr>\n",
       "    <tr>\n",
       "      <th>10602</th>\n",
       "      <td>238</td>\n",
       "      <td>126</td>\n",
       "      <td>3</td>\n",
       "      <td>I'm generally satisfied with this purchase - I...</td>\n",
       "    </tr>\n",
       "    <tr>\n",
       "      <th>10603</th>\n",
       "      <td>356</td>\n",
       "      <td>728</td>\n",
       "      <td>5</td>\n",
       "      <td>Was apprehensive though the video and descript...</td>\n",
       "    </tr>\n",
       "    <tr>\n",
       "      <th>10604</th>\n",
       "      <td>510</td>\n",
       "      <td>851</td>\n",
       "      <td>5</td>\n",
       "      <td>This is a very nice item that adds character t...</td>\n",
       "    </tr>\n",
       "  </tbody>\n",
       "</table>\n",
       "<p>10605 rows × 4 columns</p>\n",
       "</div>"
      ],
      "text/plain": [
       "       user_id  item_id  ratings  \\\n",
       "0          652      229        4   \n",
       "1          750      569        5   \n",
       "2          735      260        5   \n",
       "3          596      880        4   \n",
       "4         1049      172        3   \n",
       "...        ...      ...      ...   \n",
       "10600      423      870        4   \n",
       "10601      484      590        4   \n",
       "10602      238      126        3   \n",
       "10603      356      728        5   \n",
       "10604      510      851        5   \n",
       "\n",
       "                                                 reviews  \n",
       "0      This is a great Animal Repellent that uses Pep...  \n",
       "1      These are Christmas gifts for my sons I bought...  \n",
       "2      I've used mostly peanut butter in mouse traps,...  \n",
       "3      This hose is pretty neat! It's super lightweig...  \n",
       "4      One of these days I'll find the perfect feeder...  \n",
       "...                                                  ...  \n",
       "10600  This does as advertised, I almost always use m...  \n",
       "10601  Only bad thing is the grass catcher, dont use ...  \n",
       "10602  I'm generally satisfied with this purchase - I...  \n",
       "10603  Was apprehensive though the video and descript...  \n",
       "10604  This is a very nice item that adds character t...  \n",
       "\n",
       "[10605 rows x 4 columns]"
      ]
     },
     "metadata": {},
     "output_type": "display_data"
    },
    {
     "name": "stdout",
     "output_type": "stream",
     "text": [
      "1686\n",
      "<class 'list'>\n"
     ]
    }
   ],
   "source": [
    "current_dataset = current_df.to_dict(\"records\")\n",
    "item_ids = current_df[\"item_id\"].value_counts().index.tolist()\n",
    "user_ids = current_df[\"user_id\"].value_counts().index.tolist()\n",
    "\n",
    "print (\"Some quick sanity checks: \")\n",
    "display (current_df)\n",
    "print (len(user_ids))\n",
    "print (type(user_ids))\n",
    "\n",
    "ctr = 0\n",
    "punc = [\".\", \"!\", \"?\"]\n",
    "\n",
    "for ctr in range(len(current_dataset)):\n",
    "    if (current_dataset[ctr][\"reviews\"][-1] not in punc):\n",
    "        current_dataset[ctr][\"reviews\"] += \".\""
   ]
  },
  {
   "cell_type": "code",
   "execution_count": 6,
   "metadata": {},
   "outputs": [
    {
     "name": "stdout",
     "output_type": "stream",
     "text": [
      "Pickled users will be saved here:  ../shared_datasets/patio_dataset/exsumm_embedding_mod_punc/user/ratio-0.4.pkl  @ ratio: 0.4\n",
      "And, pickled items will be saved here:  ../shared_datasets/patio_dataset/exsumm_embedding_mod_punc/item/ratio-0.4.pkl  @ ratio: 0.4\n",
      "Getting (training) user embedding @ ratio: 0.4\n",
      "100%|██████████| 1686/1686 [46:30<00:00,  1.66s/it]\n"
     ]
    },
    {
     "ename": "SystemExit",
     "evalue": "",
     "output_type": "error",
     "traceback": [
      "An exception has occurred, use %tb to see the full traceback.\n",
      "\u001b[0;31mSystemExit\u001b[0m\n"
     ]
    }
   ],
   "source": [
    "for rat in pm.RATIOS:\n",
    "\n",
    "    out_user_pk_path = ag.OUT_PICKLE_PATH.format(pm.PREP_DOMAIN, pm.EMB_TYPE, \"user\", rat)\n",
    "    out_item_pk_path = ag.OUT_PICKLE_PATH.format(pm.PREP_DOMAIN, pm.EMB_TYPE, \"item\", rat)\n",
    "\n",
    "    print (\"Pickled users will be saved here: \", out_user_pk_path, \" @ ratio:\", rat)\n",
    "    print (\"And, pickled items will be saved here: \", out_item_pk_path, \" @ ratio:\", rat) \n",
    "\n",
    "    print (\"Getting (training) user embedding @ ratio:\", rat)\n",
    "    train_user_embs = get_xs_bert_embeddings(current_dataset, user_ids, \"user_id\", rat)\n",
    "\n",
    "    with open(out_user_pk_path, \"wb\") as handle1:\n",
    "        pickle.dump(train_user_embs, handle1)\n",
    "\n",
    "\n",
    "    print (\"Getting (training) item embedding @ ratio:\", rat)\n",
    "    train_item_embs = get_xs_bert_embeddings(current_dataset, item_ids, \"item_id\", rat)\n",
    "\n",
    "    with open(out_item_pk_path, \"wb\") as handle2:\n",
    "        pickle.dump(train_item_embs, handle2)\n",
    "\n",
    "print (\"\\nFinished! Bye-bye!\\n\")"
   ]
  }
 ],
 "metadata": {
  "interpreter": {
   "hash": "ca6b16b9dfc0288a019101a75a813b8e301ebf08f9291523849b1e0e19fc3d86"
  },
  "kernelspec": {
   "display_name": "Python 3.8.3 64-bit ('base': conda)",
   "name": "python3"
  },
  "language_info": {
   "name": "python",
   "version": ""
  },
  "orig_nbformat": 2
 },
 "nbformat": 4,
 "nbformat_minor": 2
}